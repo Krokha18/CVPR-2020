{
 "cells": [
  {
   "cell_type": "code",
   "execution_count": 2,
   "metadata": {},
   "outputs": [
    {
     "data": {
      "text/plain": [
       "'4.4.0'"
      ]
     },
     "execution_count": 2,
     "metadata": {},
     "output_type": "execute_result"
    }
   ],
   "source": [
    "import cv2\n",
    "cv2.__version__"
   ]
  },
  {
   "cell_type": "code",
   "execution_count": 4,
   "metadata": {},
   "outputs": [],
   "source": [
    "#прочитать видео с вебки, сохранить его в \"output.avi\"\n",
    "cap=cv2.VideoCapture(0)\n",
    "fourcc=cv2.VideoWriter_fourcc(*\"XVID\")\n",
    "out=cv2.VideoWriter(\"lab1.avi\",fourcc,60.0,(640,480))\n",
    "while(cap.isOpened()):\n",
    "    ret, frame=cap.read()\n",
    "    if ret==True:\n",
    "        cv2.imshow(\"frame\",frame)\n",
    "        out.write(frame)\n",
    "        if cv2.waitKey(1) & 0xFF == ord('q'):\n",
    "            break\n",
    "    else:\n",
    "        break\n",
    "#закрыть захват видео\n",
    "cap.release()\n",
    "out.release()\n",
    "cv2.destroyAllWindows()"
   ]
  },
  {
   "cell_type": "code",
   "execution_count": 18,
   "metadata": {},
   "outputs": [],
   "source": [
    "#прочитать видео из файла. наложить на него чб и цветные геометрические фигуры.\n",
    "cap=cv2.VideoCapture('output.avi')\n",
    "fourcc=cv2.VideoWriter_fourcc(*\"XVID\")\n",
    "out=cv2.VideoWriter('output_gray.avi',fourcc,60.0,(640,480))\n",
    "while(cap.isOpened()):\n",
    "    ret, frame = cap.read()\n",
    "    if ret==True:\n",
    "        gray = cv2.cvtColor(frame, cv2.COLOR_BGR2GRAY)\n",
    "        grayBGR= cv2.cvtColor(gray, cv2.COLOR_GRAY2BGR)\n",
    "        begin = (200,200) \n",
    "        end = (400,400) \n",
    "        thickness = 5\n",
    "        cv2.rectangle(grayBGR, begin, end,(0,255,0) , thickness)\n",
    "        x1, y1 = (640,480)\n",
    "        x2, y2 = (0,0)\n",
    "        cv2.line(grayBGR, (x1,y1), (x2,y2), (255,0,0), thickness+2)\n",
    "        out.write(grayBGR)\n",
    "    else:\n",
    "        break\n",
    "#закрыть захват видео\n",
    "cap.release()\n",
    "out.release()\n",
    "cv2.destroyAllWindows()"
   ]
  }
 ],
 "metadata": {
  "kernelspec": {
   "display_name": "Python 3",
   "language": "python",
   "name": "python3"
  },
  "language_info": {
   "codemirror_mode": {
    "name": "ipython",
    "version": 3
   },
   "file_extension": ".py",
   "mimetype": "text/x-python",
   "name": "python",
   "nbconvert_exporter": "python",
   "pygments_lexer": "ipython3",
   "version": "3.8.2"
  }
 },
 "nbformat": 4,
 "nbformat_minor": 4
}
